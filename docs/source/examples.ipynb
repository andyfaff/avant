
{
  "nbformat": 4,
  "nbformat_minor": 0,
  "metadata": {
    "colab": {
      "name": "Untitled0.ipynb",
      "provenance": []
    },
    "kernelspec": {
      "name": "python3",
      "display_name": "Python 3"
    },
    "language_info": {
      "name": "python"
    }
  },
  "cells": [
    {
      "cell_type": "markdown",
      "metadata": {
        "id": "AglzcvTU8Y9w"
      },
      "source": [
        "### **Plotting Informed Priors**"
      ]
    },
    {
      "cell_type": "markdown",
      "metadata": {
        "id": "uJsvR2Pq8qAB"
      },
      "source": [
        "For example, to plot the informed prior for the head volume for DMPC: "
      ]
    },
    {
      "cell_type": "code",
      "metadata": {
        "id": "SwEq5oux9hr3"
      },
      "source": [
        "import refl_package.parameter.vh as vh\n",
        "vh.plotGauss('DMPC')"
      ],
      "execution_count": null,
      "outputs": []
    },
    {
      "cell_type": "markdown",
      "metadata": {
        "id": "iZIdghMn9ndT"
      },
      "source": [
        "### **Plotting Uniform Priors**"
      ]
    },
    {
      "cell_type": "markdown",
      "metadata": {
        "id": "VqzPd9ZO9u42"
      },
      "source": [
        "For example, to plot the uniform prior for the head volume for DMPC:"
      ]
    },
    {
      "cell_type": "code",
      "metadata": {
        "id": "U-235Ldj90qP"
      },
      "source": [
        "import refl_package.parameter.vh as vh\n",
        "vh.plotUniform('DMPC')"
      ],
      "execution_count": null,
      "outputs": []
    },
    {
      "cell_type": "markdown",
      "metadata": {
        "id": "kp0wROmu98qa"
      },
      "source": [
        "### **Setting a parameter for an informed prior**"
      ]
    },
    {
      "cell_type": "markdown",
      "metadata": {
        "id": "V5sNL7qn-Czm"
      },
      "source": [
        "This sets the value of the parameter to that of the Gauss object - this is a class containing statistical information about the prior and can be fed straight into Refnx. \n",
        "\n",
        "For example, to set a parameter for the head volume of DMPC:"
      ]
    },
    {
      "cell_type": "code",
      "metadata": {
        "id": "9lWs12Zv-UTv"
      },
      "source": [
        "import refl_package.parameter.vh as vh\n",
        "x = vh.Gauss('DMPC')"
      ],
      "execution_count": null,
      "outputs": []
    },
    {
      "cell_type": "markdown",
      "metadata": {
        "id": "iGQqqpkk-bfS"
      },
      "source": [
        "### **Setting a parameter for a uniform prior**"
      ]
    },
    {
      "cell_type": "markdown",
      "metadata": {
        "id": "CMoi16yq-gZp"
      },
      "source": [
        "This sets the value of the parameter to a tuple containing the lower and upper bound of the uniform range of values for the parameter. This can be fed straight into Refnx.\n",
        "\n",
        "For example, to set a parameter for the head volume of DMPC:"
      ]
    },
    {
      "cell_type": "code",
      "metadata": {
        "id": "UHsQjxDn-s7D"
      },
      "source": [
        "import refl_package.parameter.vh as vh\n",
        "x = vh.uniform('DMPC')"
      ],
      "execution_count": null,
      "outputs": []
    }
  ]
}